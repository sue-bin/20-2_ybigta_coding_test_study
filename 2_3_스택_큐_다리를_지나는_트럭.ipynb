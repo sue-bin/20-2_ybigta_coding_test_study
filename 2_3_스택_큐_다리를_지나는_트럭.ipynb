{
  "nbformat": 4,
  "nbformat_minor": 0,
  "metadata": {
    "colab": {
      "name": "2-3. 스택/큐 - 다리를 지나는 트럭.ipynb",
      "provenance": [],
      "authorship_tag": "ABX9TyMJ/Gx9D8FbQE2VJerQUZJb"
    },
    "kernelspec": {
      "name": "python3",
      "display_name": "Python 3"
    }
  },
  "cells": [
    {
      "cell_type": "code",
      "metadata": {
        "id": "0KtG5l1Q1mok"
      },
      "source": [
        "from collections import deque\n",
        "def solution(bridge_length, weight, truck_weights):\n",
        "    bridge = deque([0]*(bridge_length))\n",
        "    queue = deque(truck_weights)\n",
        "    \n",
        "    answer = 0\n",
        "    weight_sum = 0\n",
        "        \n",
        "    while len(queue)>0:\n",
        "        while len(queue)>0 and weight_sum - bridge[0] + queue[0] <= weight:\n",
        "            bridge.append(queue.popleft())\n",
        "            answer += 1\n",
        "            weight_sum -= bridge.popleft()\n",
        "            weight_sum += bridge[-1]\n",
        "            \n",
        "        while len(queue)>0 and weight_sum - bridge[0] + queue[0] > weight:\n",
        "            bridge.append(0)\n",
        "            answer += 1\n",
        "            weight_sum -= bridge.popleft()\n",
        "            \n",
        "    answer += bridge_length\n",
        "    \n",
        "    return answer"
      ],
      "execution_count": null,
      "outputs": []
    }
  ]
}