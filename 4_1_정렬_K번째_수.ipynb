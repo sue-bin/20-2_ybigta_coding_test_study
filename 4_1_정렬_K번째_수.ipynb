{
  "nbformat": 4,
  "nbformat_minor": 0,
  "metadata": {
    "colab": {
      "name": "4-1. 정렬 - K번째 수",
      "provenance": [],
      "collapsed_sections": [],
      "authorship_tag": "ABX9TyNXFmQrLzPRfqM0hS/9lvEY"
    },
    "kernelspec": {
      "name": "python3",
      "display_name": "Python 3"
    }
  },
  "cells": [
    {
      "cell_type": "code",
      "metadata": {
        "id": "HsYgbQHRWhVG"
      },
      "source": [
        "def solution(array, commands):\n",
        "    answer = []\n",
        "    for command in commands:\n",
        "        s = command[0]-1\n",
        "        e = command[1]\n",
        "        n = command[2]-1\n",
        "        temp = array[s:e]\n",
        "        temp.sort()\n",
        "        answer.append(temp[n])\n",
        "    return answer"
      ],
      "execution_count": null,
      "outputs": []
    }
  ]
}