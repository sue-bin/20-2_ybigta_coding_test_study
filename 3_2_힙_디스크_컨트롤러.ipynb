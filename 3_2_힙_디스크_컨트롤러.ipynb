{
  "nbformat": 4,
  "nbformat_minor": 0,
  "metadata": {
    "colab": {
      "name": "3-2. 힙 - 디스크 컨트롤러",
      "provenance": [],
      "collapsed_sections": [],
      "authorship_tag": "ABX9TyNfipSqXv9dlMKJjaRz2Dwn",
      "include_colab_link": true
    },
    "kernelspec": {
      "name": "python3",
      "display_name": "Python 3"
    }
  },
  "cells": [
    {
      "cell_type": "markdown",
      "metadata": {
        "id": "view-in-github",
        "colab_type": "text"
      },
      "source": [
        "<a href=\"https://colab.research.google.com/github/sue-bin/coding_test_study/blob/master/3_2_%ED%9E%99_%EB%94%94%EC%8A%A4%ED%81%AC_%EC%BB%A8%ED%8A%B8%EB%A1%A4%EB%9F%AC.ipynb\" target=\"_parent\"><img src=\"https://colab.research.google.com/assets/colab-badge.svg\" alt=\"Open In Colab\"/></a>"
      ]
    },
    {
      "cell_type": "code",
      "metadata": {
        "id": "HsYgbQHRWhVG"
      },
      "source": [
        "import heapq\n",
        "def solution(operations):\n",
        "    answer = []\n",
        "    heapq.heapify(answer)\n",
        "    for i in operations:\n",
        "        if i.startswith(\"I\"):\n",
        "            heapq.heappush(answer,float(i[2:])\n",
        "        elif i.startswith(\"D -\"):\n",
        "            heapq.heappop(answer)\n",
        "        else:\n",
        "            temp=[]\n",
        "            for i in answer:\n",
        "                heapq.heappush(-i)\n",
        "            heapq.heappop(temp)\n",
        "            answer=[]\n",
        "            for i in temp:\n",
        "                answer.heappush(i[1])\n",
        "            answer = \n",
        "            del answer[-1]\n",
        "            \n",
        "    return answer"
      ],
      "execution_count": null,
      "outputs": []
    },
    {
      "cell_type": "code",
      "metadata": {
        "id": "16CLr5-K5KA6"
      },
      "source": [
        "import heapq\n",
        "def solution(operations):\n",
        "    queue = []\n",
        "    heapq.heapify(queue)\n",
        "    for i in operations:\n",
        "      if i.startswith(\"I\"):\n",
        "        heapq.heappush(queue,float(i[2:])\n",
        "      elif i == \"D -1\":\n",
        "        heapq.heappop(queue)\n",
        "      else:\n",
        "        temp=[]\n",
        "        for i in queue:\n",
        "          heapq.heappush(-i)\n",
        "          heapq.heappop(temp)\n",
        "        for i in temp:\n",
        "          queue.heappush(i[1])\n",
        "    if len(queue) ==0 :\n",
        "      answer = [0,0]\n",
        "    else:\n",
        "      answer = []\n",
        "      answer.append(heapq.heappop(queue))\n",
        "      while True:\n",
        "        i=heapq.heappop(queue)\n",
        "            \n",
        "    return answer\n",
        "\n",
        "for i in djfsklj:\n"
      ],
      "execution_count": null,
      "outputs": []
    },
    {
      "cell_type": "code",
      "metadata": {
        "id": "Ov1KJlyu6rLh",
        "outputId": "3dc58aa3-2b90-4581-a581-21dea0d0cfba",
        "colab": {
          "base_uri": "https://localhost:8080/"
        }
      },
      "source": [
        "import heapq\n",
        "def solution(operations):\n",
        "    process = []\n",
        "    for i in operations:\n",
        "      if i.startswith(\"I\"):\n",
        "        heapq.heappush(process,float(i[2:])\n",
        "      else:\n",
        "        if len(process)>0:\n",
        "          if i==\"D -1\":\n",
        "            heapq.heappop(process)\n",
        "          else:\n",
        "            temp=[]\n",
        "            for j in process:\n",
        "              heapq.heappush((-j,j))\n",
        "              heapq.heappop(temp)\n",
        "            for k in temp:\n",
        "              process.heappush(k[1])\n",
        "          \n",
        "    answer=[]\n",
        "    answer.append(heapq.heappop(process))\n",
        "    while len(process)>0:\n",
        "      a=heapq.heappop(process)\n",
        "    answer.append(a)\n",
        "\n",
        "    return answer"
      ],
      "execution_count": null,
      "outputs": [
        {
          "output_type": "stream",
          "text": [
            "3 3\n"
          ],
          "name": "stdout"
        }
      ]
    },
    {
      "cell_type": "code",
      "metadata": {
        "id": "qGUQYk2D6xNB",
        "outputId": "4b640e26-cf1c-4e3a-818b-0431037c4031",
        "colab": {
          "base_uri": "https://localhost:8080/"
        }
      },
      "source": [
        "float(\"I 34\"[2:])"
      ],
      "execution_count": null,
      "outputs": [
        {
          "output_type": "execute_result",
          "data": {
            "text/plain": [
              "34.0"
            ]
          },
          "metadata": {
            "tags": []
          },
          "execution_count": 3
        }
      ]
    },
    {
      "cell_type": "code",
      "metadata": {
        "id": "1qU8nq9ykSvQ"
      },
      "source": [
        ""
      ],
      "execution_count": null,
      "outputs": []
    }
  ]
}