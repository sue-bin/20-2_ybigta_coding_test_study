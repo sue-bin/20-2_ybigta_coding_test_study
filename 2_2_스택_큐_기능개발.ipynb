{
  "nbformat": 4,
  "nbformat_minor": 0,
  "metadata": {
    "colab": {
      "name": "2-2. 스택/큐 - 기능개발",
      "provenance": [],
      "collapsed_sections": [],
      "authorship_tag": "ABX9TyN+JRYCbhx1ZLEEM0kuRRHJ"
    },
    "kernelspec": {
      "name": "python3",
      "display_name": "Python 3"
    }
  },
  "cells": [
    {
      "cell_type": "code",
      "metadata": {
        "id": "A-b22Uyg1Zx2"
      },
      "source": [
        "from collections import deque\n",
        "import math\n",
        "def solution(progresses, speeds):\n",
        "    answer = []\n",
        "\n",
        "    time = deque()\n",
        "    for i in range(len(progresses)):\n",
        "        time.append(math.ceil((100-progresses[i])/speeds[i]))\n",
        "\n",
        "    a = time.popleft()\n",
        "    t = 1\n",
        "\n",
        "    while len(time)>0:\n",
        "        while (len(time)>0 and a >= time[0]):\n",
        "            time.popleft()\n",
        "            t +=1\n",
        "        if len(time)>0 and a < time[0]:\n",
        "            answer.append(t)\n",
        "            a = time.popleft()\n",
        "            t = 1\n",
        "\n",
        "    answer.append(t) \n",
        "\n",
        "    return answer"
      ],
      "execution_count": 22,
      "outputs": []
    }
  ]
}