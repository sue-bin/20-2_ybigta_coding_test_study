{
  "nbformat": 4,
  "nbformat_minor": 0,
  "metadata": {
    "colab": {
      "name": "2-5. 스택/큐 - 가장 큰 수.ipynb",
      "provenance": [],
      "collapsed_sections": [],
      "authorship_tag": "ABX9TyOgrneA8ZV9iaaiYADFWkYP"
    },
    "kernelspec": {
      "name": "python3",
      "display_name": "Python 3"
    }
  },
  "cells": [
    {
      "cell_type": "code",
      "metadata": {
        "id": "RoS5ZlsyGrzz"
      },
      "source": [
        "import sys\n",
        "from collections import deque\n",
        "\n",
        "#sys.stdin = open(\"in1.txt\",\"rt\")\n",
        "n,digit = input().split()\n",
        "\n",
        "digit = int(digit)\n",
        "\n",
        "dq = deque()\n",
        "dq.extend(n)\n",
        "\n",
        "passed = deque()\n",
        "passed.append(dq.popleft())\n",
        "\n",
        "while digit > 0:\n",
        "    while digit>0 and passed[-1]>dq[0]:\n",
        "        dq.popleft()\n",
        "        digit -= 1\n",
        "    while digit>0 and passed[-1]<=dq[0]:\n",
        "        passed.pop()\n",
        "        passed.append(dq.popleft())\n",
        "        digit -= 1\n",
        "\n",
        "while len(dq)>0:\n",
        "    passed.append(dq.popleft())\n",
        "\n",
        "print(\"\".join(passed))"
      ],
      "execution_count": null,
      "outputs": []
    }
  ]
}