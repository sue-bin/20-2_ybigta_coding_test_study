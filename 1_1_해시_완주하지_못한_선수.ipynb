{
  "nbformat": 4,
  "nbformat_minor": 0,
  "metadata": {
    "colab": {
      "name": "해시 - 완주하지 못한 선수.ipynb",
      "provenance": [],
      "collapsed_sections": [],
      "authorship_tag": "ABX9TyPB8UzEifTuSGOq5SeUp4y0"
    },
    "kernelspec": {
      "name": "python3",
      "display_name": "Python 3"
    }
  },
  "cells": [
    {
      "cell_type": "code",
      "metadata": {
        "id": "F18C4fyGD7TM",
        "colab_type": "code",
        "colab": {}
      },
      "source": [
        "def solution(participant, completion):\n",
        "    \n",
        "    def key(string):\n",
        "        key_int = 0\n",
        "        for i in range(len(string)):\n",
        "            key_int = key_int + (ord(string[i])**(i+1))\n",
        "        return key_int\n",
        "    \n",
        "    part_dict = {}\n",
        "\n",
        "    for i in participant:\n",
        "        part_k = key(i)\n",
        "        if part_k not in part_dict:        \n",
        "            part_dict[part_k] = [i]\n",
        "        else:\n",
        "            part_dict[part_k].append(i)\n",
        "    \n",
        "    for j in completion:\n",
        "        com_k = key(j)\n",
        "        if len(part_dict[com_k]) == 1:\n",
        "            del(part_dict[com_k])\n",
        "        else:\n",
        "            del(part_dict[com_k][0])\n",
        "    \n",
        "    answer = list(part_dict.values())[0][0]\n",
        "    return answer"
      ],
      "execution_count": 57,
      "outputs": []
    },
    {
      "cell_type": "code",
      "metadata": {
        "id": "5iWPT5yZS8R_",
        "colab_type": "code",
        "colab": {}
      },
      "source": [
        "#완주하지 못한 선수가 한 예시당 한명씩밖에 없기 때문에 가능한 함수\n",
        "def solution(participant, completion):\n",
        "    participant.sort()\n",
        "    completion.sort()\n",
        "    completion.append([\"\"])\n",
        "    for i in range(len(participant)):\n",
        "        if participant[i] != completion[i]:\n",
        "            answer = participant[i]\n",
        "            break\n",
        "    return answer"
      ],
      "execution_count": 76,
      "outputs": []
    },
    {
      "cell_type": "code",
      "metadata": {
        "id": "Jf7P5Z_GYOid",
        "colab_type": "code",
        "colab": {}
      },
      "source": [
        "import collections\n",
        "def solution(participant, completion):\n",
        "    answer = collections.Counter(participant) - collections.Counter(completion)\n",
        "    return list(answer.keys())[0]"
      ],
      "execution_count": 83,
      "outputs": []
    }
  ]
}
