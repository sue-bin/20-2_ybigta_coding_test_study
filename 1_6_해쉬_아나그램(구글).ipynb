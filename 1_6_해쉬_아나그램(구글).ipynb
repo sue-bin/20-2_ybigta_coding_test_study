{
  "nbformat": 4,
  "nbformat_minor": 0,
  "metadata": {
    "colab": {
      "name": "1-6. 해쉬 - 아나그램(구글).ipynb",
      "provenance": [],
      "collapsed_sections": [],
      "authorship_tag": "ABX9TyPnuen8fT91hEDz4y3PvHxt"
    },
    "kernelspec": {
      "name": "python3",
      "display_name": "Python 3"
    }
  },
  "cells": [
    {
      "cell_type": "code",
      "metadata": {
        "id": "9VDW_lD1ILwb",
        "colab_type": "code",
        "colab": {}
      },
      "source": [
        "import sys\n",
        "import collections\n",
        "#sys.stdin=open(\"in1.txt\",\"rt\")\n",
        "a = collections.Counter(input())\n",
        "b = collections.Counter(input())\n",
        "c = a-b\n",
        "if len(list(c)) == 0:\n",
        "    print(\"YES\")\n",
        "else:\n",
        "    print(\"NO\")"
      ],
      "execution_count": null,
      "outputs": []
    }
  ]
}