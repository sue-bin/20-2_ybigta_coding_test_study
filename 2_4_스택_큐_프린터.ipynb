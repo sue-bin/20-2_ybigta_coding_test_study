{
  "nbformat": 4,
  "nbformat_minor": 0,
  "metadata": {
    "colab": {
      "name": "2-4. 스택/큐 - 프린터.ipynb",
      "provenance": [],
      "authorship_tag": "ABX9TyOFxqxILyRYQUFrs2+x0AGt"
    },
    "kernelspec": {
      "name": "python3",
      "display_name": "Python 3"
    }
  },
  "cells": [
    {
      "cell_type": "code",
      "metadata": {
        "id": "DtdEY0lqvmYr"
      },
      "source": [
        "from collections import deque \n",
        "def solution(priorities, location):\n",
        "\n",
        "    dq = deque(zip(priorities,list(range(len(priorities)))))\n",
        "    pr_list = deque(sorted(priorities,reverse=True))\n",
        "    printed = []\n",
        "    while len(pr_list)>0:\n",
        "        while dq[0][0] != pr_list[0]:\n",
        "            dq.rotate(-1)\n",
        "        printed.append(dq.popleft())\n",
        "        pr_list.popleft()\n",
        "    printed_dic = {}\n",
        "    for x,y in zip(printed,list(range(len(printed)))):\n",
        "        printed_dic[x] = y+1\n",
        "\n",
        "    answer = printed_dic[(priorities[location],location)]\n",
        "\n",
        "    return answer"
      ],
      "execution_count": null,
      "outputs": []
    }
  ]
}