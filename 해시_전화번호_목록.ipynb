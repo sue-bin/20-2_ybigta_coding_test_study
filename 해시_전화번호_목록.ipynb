{
  "nbformat": 4,
  "nbformat_minor": 0,
  "metadata": {
    "colab": {
      "name": "해시 - 전화번호 목록.ipynb",
      "provenance": [],
      "collapsed_sections": [],
      "authorship_tag": "ABX9TyNZGaejBPWBBlrym6NCS12F"
    },
    "kernelspec": {
      "name": "python3",
      "display_name": "Python 3"
    }
  },
  "cells": [
    {
      "cell_type": "code",
      "metadata": {
        "id": "aUg8N-X2iobm",
        "colab_type": "code",
        "colab": {}
      },
      "source": [
        "def solution(phone_book):\n",
        "    phone_book.sort()\n",
        "    answer=True\n",
        "    for i in range(len(phone_book)-1):\n",
        "        if phone_book[i+1][:len(phone_book[i])] == phone_book[i]:\n",
        "            answer = False\n",
        "            break\n",
        "    return answer"
      ],
      "execution_count": null,
      "outputs": []
    },
    {
      "cell_type": "code",
      "metadata": {
        "id": "LTIfTLWwjgcN",
        "colab_type": "code",
        "colab": {}
      },
      "source": [
        "def solution(phone_book):\n",
        "    phone_book.sort()\n",
        "    for i in range(len(phone_book)-1):\n",
        "        if phone_book[i+1][:len(phone_book[i])] == phone_book[i]:\n",
        "            return False\n",
        "    return True"
      ],
      "execution_count": null,
      "outputs": []
    }
  ]
}