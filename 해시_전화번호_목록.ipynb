{
  "nbformat": 4,
  "nbformat_minor": 0,
  "metadata": {
    "colab": {
      "name": "해시 - 전화번호 목록.ipynb",
      "provenance": [],
      "collapsed_sections": [],
      "authorship_tag": "ABX9TyMGWWBI3X3gEIlHkSOEkxH1",
      "include_colab_link": true
    },
    "kernelspec": {
      "name": "python3",
      "display_name": "Python 3"
    }
  },
  "cells": [
    {
      "cell_type": "markdown",
      "metadata": {
        "id": "view-in-github",
        "colab_type": "text"
      },
      "source": [
        "<a href=\"https://colab.research.google.com/github/sue-bin/coding_test_study/blob/master/%ED%95%B4%EC%8B%9C_%EC%A0%84%ED%99%94%EB%B2%88%ED%98%B8_%EB%AA%A9%EB%A1%9D.ipynb\" target=\"_parent\"><img src=\"https://colab.research.google.com/assets/colab-badge.svg\" alt=\"Open In Colab\"/></a>"
      ]
    },
    {
      "cell_type": "code",
      "metadata": {
        "id": "aUg8N-X2iobm",
        "colab_type": "code",
        "colab": {}
      },
      "source": [
        "def solution(phone_book):\n",
        "    phone_book.sort()\n",
        "    answer=True\n",
        "    for i in range(len(phone_book)-1):\n",
        "        if phone_book[i+1][:len(phone_book[i])] == phone_book[i]:\n",
        "            answer = False\n",
        "            break\n",
        "    return answer"
      ],
      "execution_count": null,
      "outputs": []
    },
    {
      "cell_type": "code",
      "metadata": {
        "id": "LTIfTLWwjgcN",
        "colab_type": "code",
        "colab": {}
      },
      "source": [
        "def solution(phone_book):\n",
        "    phone_book.sort()\n",
        "    for i in range(len(phone_book)-1):\n",
        "        if phone_book[i+1][:len(phone_book[i])] == phone_book[i]:\n",
        "            return False\n",
        "    return True"
      ],
      "execution_count": null,
      "outputs": []
    },
    {
      "cell_type": "code",
      "metadata": {
        "id": "X9YVbp9JkG-O",
        "colab_type": "code",
        "colab": {}
      },
      "source": [
        "def solution(phone_book):\n",
        "    phone_book.sort()\n",
        "    for i in range(len(phone_book)-1):\n",
        "        if phone_book[i+1][:len(phone_book[i])] == phone_book[i]:\n",
        "            return False\n",
        "            break\n",
        "    return True"
      ],
      "execution_count": null,
      "outputs": []
    }
  ]
}