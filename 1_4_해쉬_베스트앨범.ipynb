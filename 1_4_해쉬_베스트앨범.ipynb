{
  "nbformat": 4,
  "nbformat_minor": 0,
  "metadata": {
    "colab": {
      "name": "1-4. 해쉬 - 베스트앨범.ipynb",
      "provenance": [],
      "collapsed_sections": [],
      "authorship_tag": "ABX9TyOSG1apMbx77fdWpbzxlwil",
      "include_colab_link": true
    },
    "kernelspec": {
      "name": "python3",
      "display_name": "Python 3"
    }
  },
  "cells": [
    {
      "cell_type": "markdown",
      "metadata": {
        "id": "view-in-github",
        "colab_type": "text"
      },
      "source": [
        "<a href=\"https://colab.research.google.com/github/sue-bin/coding_test_study/blob/master/1_4_%ED%95%B4%EC%89%AC_%EB%B2%A0%EC%8A%A4%ED%8A%B8%EC%95%A8%EB%B2%94.ipynb\" target=\"_parent\"><img src=\"https://colab.research.google.com/assets/colab-badge.svg\" alt=\"Open In Colab\"/></a>"
      ]
    },
    {
      "cell_type": "code",
      "metadata": {
        "id": "WaEFqgpDamVv",
        "colab_type": "code",
        "colab": {}
      },
      "source": [
        "\n",
        "dict_songs = {}\n",
        "for i in zip_list:\n",
        "  if i[0] not in dict_songs:\n",
        "      dict_songs[i[0]] = [i[1]]\n",
        "  else:\n",
        "      dict_songs[i[0]].append(i[1]) #{\"classic\":[500,150],\"pop\":[600]}\n",
        "            \n",
        "    index_dict = {}\n",
        "    for i in zip_list:\n",
        "        index_dict[i] = zip_list.index(i) #{(\"classic\",500):0, }\n",
        "    \n",
        "    for i in dict_songs:\n",
        "        dict_songs[i].append(reduce(lambda x,y : x+y, dict_songs[i]))\n",
        "        dict_songs[i].sort(reverse=True) #{\"classic\":[650, 500,150],\"pop\":[600, 600]}\n",
        "    \n",
        "    answer = []\n",
        "    sum_list = []\n",
        "    \n",
        "    for i in list(dict_songs.values()):\n",
        "        sum_list.append(i[0]) #sum_list = [650,600]\n",
        "    \n",
        "    for i in dict_songs:\n",
        "        if dict_songs[i][0] == max(sum_list):\n",
        "            answer.append(index_dict[(i,dict_songs[i][1])])\n",
        "        if len(dict_songs[i]) > 2:\n",
        "            answer.append(index_dict[(i,dict_songs[i][2])])\n",
        "        del sum_list[sum_list.index(dict_songs[i][0])]\n",
        "    \n",
        "    return answer"
      ],
      "execution_count": 8,
      "outputs": []
    },
    {
      "cell_type": "code",
      "metadata": {
        "id": "3AFfw6TDanOp",
        "colab_type": "code",
        "colab": {
          "base_uri": "https://localhost:8080/",
          "height": 36
        },
        "outputId": "d5065c5b-0d0c-4c99-9674-c7d8937bf68c"
      },
      "source": [
        "import collections\n",
        "from functools import reduce\n",
        "\n",
        "def solution(genres, plays):\n",
        "    zip_list = list(zip(genres, plays)) #[(\"classic\",500),(\"pop\",600),(\"classic\",\"150\")]\n",
        "    \n",
        "    dict_songs = {}\n",
        "    for i in zip_list:\n",
        "        if i[0] not in dict_songs:\n",
        "            dict_songs[i[0]] = [i[1]]\n",
        "        else:\n",
        "            dict_songs[i[0]].append(i[1]) #{\"classic\":[500,150],\"pop\":[600]}\n",
        "            \n",
        "    index_dict = {}\n",
        "    for i in zip_list:\n",
        "        index_dict[i] = zip_list.index(i) #{(\"classic\",500):0, }\n",
        "    \n",
        "    for i in dict_songs:\n",
        "        dict_songs[i].append(reduce(lambda x,y : x+y, dict_songs[i]))\n",
        "        dict_songs[i].sort(reverse=True) #{\"classic\":[650, 500,150],\"pop\":[600, 600]}\n",
        "    \n",
        "    answer = []\n",
        "    sum_list = []\n",
        "    \n",
        "    for i in list(dict_songs.values()):\n",
        "        sum_list.append(i[0]) #sum_list = [650,600]\n",
        "    \n",
        "    sum_list.sort(reverse=True)\n",
        "    \n",
        "    for i in sum_list:\n",
        "        for j in dict_songs:\n",
        "            if dict_songs[j][0] == i:\n",
        "                answer.append(index_dict[(j,dict_songs[j][1])])\n",
        "                if len(dict_songs[j])>2:\n",
        "                    answer.append(index_dict[(j,dict_songs[j][2])])\n",
        "                    \n",
        "    return answer"
      ],
      "execution_count": 9,
      "outputs": [
        {
          "output_type": "execute_result",
          "data": {
            "text/plain": [
              "[0, 4, 1]"
            ]
          },
          "metadata": {
            "tags": []
          },
          "execution_count": 9
        }
      ]
    }
  ]
}