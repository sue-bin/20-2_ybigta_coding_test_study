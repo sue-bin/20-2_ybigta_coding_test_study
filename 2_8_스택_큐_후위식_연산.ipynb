{
  "nbformat": 4,
  "nbformat_minor": 0,
  "metadata": {
    "colab": {
      "name": "2-8. 스택/큐 - 후위식 연산.ipynb",
      "provenance": [],
      "authorship_tag": "ABX9TyMZgo70mGjKktxZMW+kTd9p"
    },
    "kernelspec": {
      "name": "python3",
      "display_name": "Python 3"
    }
  },
  "cells": [
    {
      "cell_type": "code",
      "metadata": {
        "id": "VGWlEf8Bu10s"
      },
      "source": [
        "import sys\n",
        "from collections import deque\n",
        "\n",
        "sys.stdin = open(\"in1.txt\",\"rt\")\n",
        "input = input()\n",
        "input = deque(input)"
      ],
      "execution_count": null,
      "outputs": []
    }
  ]
}