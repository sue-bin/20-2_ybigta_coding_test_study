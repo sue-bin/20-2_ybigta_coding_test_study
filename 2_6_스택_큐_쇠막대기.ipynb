{
  "nbformat": 4,
  "nbformat_minor": 0,
  "metadata": {
    "colab": {
      "name": "2-6. 스택/큐 - 쇠막대기.ipynb",
      "provenance": [],
      "authorship_tag": "ABX9TyOQ/jR61TzlXwDD45JOZhI/"
    },
    "kernelspec": {
      "name": "python3",
      "display_name": "Python 3"
    }
  },
  "cells": [
    {
      "cell_type": "code",
      "metadata": {
        "id": "VGWlEf8Bu10s"
      },
      "source": [
        "import sys\n",
        "from collections import deque\n",
        "\n",
        "#sys.stdin = open(\"in1.txt\",\"rt\")\n",
        "input = input()\n",
        "\n",
        "input = deque(input)\n",
        "left = deque()\n",
        "right = deque()\n",
        "\n",
        "answer = 0\n",
        "i=0\n",
        "\n",
        "while len(input) > 0:\n",
        "    if (input[0] == \"(\") and (input[1] ==\")\"):\n",
        "        answer += len(left)\n",
        "        input.popleft()\n",
        "        input.popleft()\n",
        "        i +=1\n",
        "\n",
        "    else:\n",
        "        if input[0] == \"(\" :\n",
        "            left.append(input.popleft())\n",
        "            i +=1\n",
        "        else:\n",
        "            input.popleft()\n",
        "            left.pop()\n",
        "            answer += 1\n",
        "            i +=1\n",
        "\n",
        "print(answer)"
      ],
      "execution_count": null,
      "outputs": []
    }
  ]
}