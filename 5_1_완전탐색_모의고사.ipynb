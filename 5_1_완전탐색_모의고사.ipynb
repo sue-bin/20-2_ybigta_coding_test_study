{
  "nbformat": 4,
  "nbformat_minor": 0,
  "metadata": {
    "colab": {
      "name": "5-1. 완전탐색 - 모의고사",
      "provenance": [],
      "collapsed_sections": [],
      "authorship_tag": "ABX9TyOsFX73mYJO4o1CFZOcCyBB"
    },
    "kernelspec": {
      "name": "python3",
      "display_name": "Python 3"
    }
  },
  "cells": [
    {
      "cell_type": "code",
      "metadata": {
        "id": "HsYgbQHRWhVG"
      },
      "source": [
        ""
      ],
      "execution_count": null,
      "outputs": []
    }
  ]
}