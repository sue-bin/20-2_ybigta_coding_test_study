{
  "nbformat": 4,
  "nbformat_minor": 0,
  "metadata": {
    "colab": {
      "name": "1-3. 해쉬 - 위장.ipynb",
      "provenance": [],
      "authorship_tag": "ABX9TyOaLDTfXh7NN0yLLggH6LyW"
    },
    "kernelspec": {
      "name": "python3",
      "display_name": "Python 3"
    }
  },
  "cells": [
    {
      "cell_type": "code",
      "metadata": {
        "id": "Mxf40IbgJgtT",
        "colab_type": "code",
        "colab": {}
      },
      "source": [
        "def solution(clothes):\n",
        "    dict = {}\n",
        "    for i in clothes:\n",
        "        if i[1] not in dict:\n",
        "            dict[i[1]] = [i[0]]\n",
        "        else:\n",
        "            dict[i[1]].append(i[0])\n",
        "    answer = 1\n",
        "    for i in list(dict.values()):\n",
        "        answer = answer * (len(i)+1)\n",
        "    answer = answer-1\n",
        "    return answer"
      ],
      "execution_count": null,
      "outputs": []
    }
  ]
}