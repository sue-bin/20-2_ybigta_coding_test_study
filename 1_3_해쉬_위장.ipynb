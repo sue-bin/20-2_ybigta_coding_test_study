{
  "nbformat": 4,
  "nbformat_minor": 0,
  "metadata": {
    "colab": {
      "name": "1-3. 해쉬 - 위장.ipynb",
      "provenance": [],
      "authorship_tag": "ABX9TyMkMTWmdwNf/pcOOcu53tVp"
    },
    "kernelspec": {
      "name": "python3",
      "display_name": "Python 3"
    }
  },
  "cells": [
    {
      "cell_type": "code",
      "metadata": {
        "id": "Mxf40IbgJgtT",
        "colab_type": "code",
        "colab": {}
      },
      "source": [
        "def solution(clothes):\n",
        "    dict = {}\n",
        "    for i in clothes:\n",
        "        if i[1] not in dict:\n",
        "            dict[i[1]] = [i[0]]\n",
        "        else:\n",
        "            dict[i[1]].append(i[0])\n",
        "    answer = 1\n",
        "    for i in list(dict.values()):\n",
        "        answer = answer * (len(i)+1)\n",
        "    answer = answer-1\n",
        "    return answer"
      ],
      "execution_count": null,
      "outputs": []
    },
    {
      "cell_type": "code",
      "metadata": {
        "id": "yhjzPHDYMqWd",
        "colab_type": "code",
        "colab": {}
      },
      "source": [
        "import collections\n",
        "from functools import reduce\n",
        "\n",
        "def solution(clothes):\n",
        "    count = collections.Counter(b for a,b in clothes)\n",
        "    answer = reduce(lambda x,y : x*(y+1), count.values(),1) -1\n",
        "    return answer"
      ],
      "execution_count": null,
      "outputs": []
    }
  ]
}