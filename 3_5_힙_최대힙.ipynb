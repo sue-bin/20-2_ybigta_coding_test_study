{
  "nbformat": 4,
  "nbformat_minor": 0,
  "metadata": {
    "colab": {
      "name": "3-5. 힙 - 최대힙",
      "provenance": [],
      "collapsed_sections": [],
      "authorship_tag": "ABX9TyMSQq0H1jwutuq8HsE8Io/i",
      "include_colab_link": true
    },
    "kernelspec": {
      "name": "python3",
      "display_name": "Python 3"
    }
  },
  "cells": [
    {
      "cell_type": "markdown",
      "metadata": {
        "id": "view-in-github",
        "colab_type": "text"
      },
      "source": [
        "<a href=\"https://colab.research.google.com/github/sue-bin/coding_test_study/blob/master/3_5_%ED%9E%99_%EC%B5%9C%EB%8C%80%ED%9E%99.ipynb\" target=\"_parent\"><img src=\"https://colab.research.google.com/assets/colab-badge.svg\" alt=\"Open In Colab\"/></a>"
      ]
    },
    {
      "cell_type": "code",
      "metadata": {
        "id": "HsYgbQHRWhVG"
      },
      "source": [
        "import sys\n",
        "import heapq\n",
        "#sys.stdin=open(\"in1.txt\",\"rt\")\n",
        "heap = []\n",
        "heapq.heapify(heap)\n",
        "a = int(input())\n",
        "while a >= 0:    \n",
        "    if a > 0 :\n",
        "        heapq.heappush(heap,-a)\n",
        "    elif a == 0:\n",
        "        if len(heap)>0:\n",
        "            b = heapq.heappop(heap)\n",
        "            print(-b)\n",
        "        else:\n",
        "            print(\"-1\")\n",
        "    a = int(input())\n",
        "    \n"
      ],
      "execution_count": null,
      "outputs": []
    }
  ]
}