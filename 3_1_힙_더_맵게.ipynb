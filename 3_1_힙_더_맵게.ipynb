{
  "nbformat": 4,
  "nbformat_minor": 0,
  "metadata": {
    "colab": {
      "name": "3-1. 힙 - 더 맵게",
      "provenance": [],
      "collapsed_sections": [],
      "authorship_tag": "ABX9TyP49EhIEM197LEiImblzB+J"
    },
    "kernelspec": {
      "name": "python3",
      "display_name": "Python 3"
    }
  },
  "cells": [
    {
      "cell_type": "code",
      "metadata": {
        "id": "HsYgbQHRWhVG"
      },
      "source": [
        "import heapq\n",
        "def solution(scoville, K):\n",
        "    heapq.heapify(scoville)\n",
        "    answer = 0\n",
        "    while scoville[0] < K:\n",
        "        a = 0\n",
        "        a += heapq.heappop(scoville)\n",
        "        a += heapq.heappop(scoville)*2\n",
        "        answer +=1\n",
        "    return answer"
      ],
      "execution_count": null,
      "outputs": []
    },
    {
      "cell_type": "code",
      "metadata": {
        "id": "0bJ9f98-Xazk"
      },
      "source": [
        "import heapq\n",
        "def solution(scoville, K):\n",
        "    heapq.heapify(scoville)\n",
        "    answer = 0\n",
        "    while scoville[0] < K:\n",
        "        a = 0\n",
        "        a += heapq.heappop(scoville)\n",
        "        a += heapq.heappop(scoville)*2\n",
        "        heapq.heappush(scoville,a)\n",
        "        answer +=1\n",
        "    return answer"
      ],
      "execution_count": null,
      "outputs": []
    }
  ]
}