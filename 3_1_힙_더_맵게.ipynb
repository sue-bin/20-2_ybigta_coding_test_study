{
  "nbformat": 4,
  "nbformat_minor": 0,
  "metadata": {
    "colab": {
      "name": "3-1. 힙 - 더 맵게",
      "provenance": [],
      "collapsed_sections": [],
      "authorship_tag": "ABX9TyMZgo70mGjKktxZMW+kTd9p"
    },
    "kernelspec": {
      "name": "python3",
      "display_name": "Python 3"
    }
  },
  "cells": [
    {
      "cell_type": "code",
      "metadata": {
        "id": "VGWlEf8Bu10s"
      },
      "source": [
        "import sys\n",
        "from collections import deque\n",
        "\n",
        "sys.stdin = open(\"in1.txt\",\"rt\")\n",
        "input = input()\n",
        "input = deque(input)"
      ],
      "execution_count": null,
      "outputs": []
    }
  ]
}