{
  "nbformat": 4,
  "nbformat_minor": 0,
  "metadata": {
    "colab": {
      "name": "4-3. 정렬 - H-Index",
      "provenance": [],
      "collapsed_sections": [],
      "authorship_tag": "ABX9TyMZ6XD2x1oIb8HAo1XoNE5S"
    },
    "kernelspec": {
      "name": "python3",
      "display_name": "Python 3"
    }
  },
  "cells": [
    {
      "cell_type": "code",
      "metadata": {
        "id": "HsYgbQHRWhVG"
      },
      "source": [
        "def solution(citations):\n",
        "    answer = 0\n",
        "    citations.sort(reverse=True)\n",
        "    for i in range(len(citations)):\n",
        "        if i+1 > citations[i]:\n",
        "            break\n",
        "    return i"
      ],
      "execution_count": null,
      "outputs": []
    }
  ]
}