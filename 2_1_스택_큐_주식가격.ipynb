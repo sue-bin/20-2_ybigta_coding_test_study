{
  "nbformat": 4,
  "nbformat_minor": 0,
  "metadata": {
    "colab": {
      "name": "2-1. 스택/큐 - 주식가격",
      "provenance": [],
      "collapsed_sections": [],
      "authorship_tag": "ABX9TyPBQ9/V+M75eFoNpokkG1vR"
    },
    "kernelspec": {
      "name": "python3",
      "display_name": "Python 3"
    }
  },
  "cells": [
    {
      "cell_type": "code",
      "metadata": {
        "id": "A-b22Uyg1Zx2"
      },
      "source": [
        "def solution(prices):\n",
        "    answer = [0] * len(prices)\n",
        "    index=0\n",
        "    for i in prices:\n",
        "        for j in prices[index+1:]:\n",
        "            if i<=j:\n",
        "                answer[index] += 1\n",
        "            else:\n",
        "                answer[index] += 1\n",
        "                break\n",
        "        index +=1\n",
        "            \n",
        "    return answer"
      ],
      "execution_count": null,
      "outputs": []
    },
    {
      "cell_type": "code",
      "metadata": {
        "id": "X9qmHYyeAZr4"
      },
      "source": [
        "def solution(prices):\n",
        "    answer = [0] * len(prices)\n",
        "    index=0\n",
        "    for i in range(len(prices)):\n",
        "        for j in range(i+1,len(prices)):\n",
        "            if prices[i]<=prices[j]:\n",
        "                answer[index] += 1\n",
        "            else:\n",
        "                answer[index] += 1\n",
        "                break\n",
        "        index +=1\n",
        "            \n",
        "    return answer"
      ],
      "execution_count": null,
      "outputs": []
    }
  ]
}