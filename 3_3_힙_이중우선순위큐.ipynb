{
  "nbformat": 4,
  "nbformat_minor": 0,
  "metadata": {
    "colab": {
      "name": "3-3. 힙 - 이중우선순위큐",
      "provenance": [],
      "collapsed_sections": [],
      "authorship_tag": "ABX9TyMOvtQ1OTSGyE2TocYMzrlU"
    },
    "kernelspec": {
      "name": "python3",
      "display_name": "Python 3"
    }
  },
  "cells": [
    {
      "cell_type": "code",
      "metadata": {
        "id": "HsYgbQHRWhVG"
      },
      "source": [
        "import heapq\n",
        "def solution(operations):\n",
        "    answer = []\n",
        "    heapq.heapify(answer)\n",
        "    for i in operations:\n",
        "        if i.startswith(\"I\"):\n",
        "            heapq.heappush(answer,float(i[2:])\n",
        "        elif i.startswith(\"D -\"):\n",
        "            heapq.heappop(answer)\n",
        "        else:\n",
        "            temp=[]\n",
        "            for i in answer:\n",
        "                heapq.heappush(-i)\n",
        "            heapq.heappop(temp)\n",
        "            answer=[]\n",
        "            for i in temp:\n",
        "                answer.heappush(i[1])\n",
        "            answer = \n",
        "            del answer[-1]\n",
        "            \n",
        "    return answer"
      ],
      "execution_count": null,
      "outputs": []
    }
  ]
}