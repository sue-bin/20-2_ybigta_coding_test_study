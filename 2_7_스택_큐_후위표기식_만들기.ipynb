{
  "nbformat": 4,
  "nbformat_minor": 0,
  "metadata": {
    "colab": {
      "name": "2-7. 스택/큐 - 후위표기식 만들기.ipynb",
      "provenance": [],
      "authorship_tag": "ABX9TyNlrxfMpklCQJ2cmbKAV+vk"
    },
    "kernelspec": {
      "name": "python3",
      "display_name": "Python 3"
    }
  },
  "cells": [
    {
      "cell_type": "code",
      "metadata": {
        "id": "VGWlEf8Bu10s"
      },
      "source": [
        "import sys\n",
        "from collections import deque\n",
        "\n",
        "sys.stdin = open(\"in1.txt\",\"rt\")\n",
        "input = input()\n",
        "input = deque(input)\n",
        "print(input)\n",
        "number = [range(1,10)]\n",
        "\n",
        "output1 = deque()\n",
        "temp = deque()\n",
        "\n",
        "while len(input)>0:\n",
        "    if input[0] == \"(\":\n",
        "        input.popleft()\n",
        "        while input[0] != \")\":\n",
        "            if input[0] in number:\n",
        "                output1.append(input.popleft())\n",
        "\n",
        "            else: input[0]:\n",
        "                temp = input.popleft()\n",
        "                output1.append(input.popleft())\n",
        "                output1.append(temp.pop())\n",
        "           \n",
        "    elif input[0] in number:\n",
        "        output1.append(input.popleft())\n",
        "        print(output1)\n",
        "    elif input[0] in \"+-\":\n",
        "        if temp\n",
        "    elif input[0] in \"*/\":\n",
        "        temp = input.popleft()\n",
        "        output1.append(input.popleft())\n",
        "        output1.append(temp.pop())\n",
        "\n",
        "while len(output1)>0:\n",
        "    if input[0] in [\"*\",\"/\"]:\n",
        "        temp = input.popleft()\n",
        "        output2.append(input.popleft())\n",
        "        outpot2.append(temp)\n",
        "    else:\n",
        "        output2.append(input.popleft())"
      ],
      "execution_count": null,
      "outputs": []
    }
  ]
}