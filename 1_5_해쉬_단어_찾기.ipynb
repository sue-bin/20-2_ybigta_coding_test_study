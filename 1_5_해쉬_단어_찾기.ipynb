{
  "nbformat": 4,
  "nbformat_minor": 0,
  "metadata": {
    "colab": {
      "name": "1-5. 해쉬 - 단어 찾기.ipynb",
      "provenance": [],
      "collapsed_sections": [],
      "authorship_tag": "ABX9TyN9XdjNa9k+76KcwqusyiO3"
    },
    "kernelspec": {
      "name": "python3",
      "display_name": "Python 3"
    }
  },
  "cells": [
    {
      "cell_type": "code",
      "metadata": {
        "id": "07uNzm2dzzBo",
        "colab_type": "code",
        "colab": {}
      },
      "source": [
        "import sys\n",
        "#sys.stdin=open(\"in5.txt\",\"rt\")\n",
        "n= int(input())\n",
        "dict = {}\n",
        "for i in range(n):\n",
        "    dict[input()] = 1\n",
        "for i in range(n-1):\n",
        "    dict[input()] = 0\n",
        "for i in dict:\n",
        "    if dict[i] == 1:\n",
        "        print(i)"
      ],
      "execution_count": null,
      "outputs": []
    }
  ]
}